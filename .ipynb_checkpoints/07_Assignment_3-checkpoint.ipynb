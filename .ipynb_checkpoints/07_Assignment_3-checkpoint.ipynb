{
 "cells": [
  {
   "cell_type": "markdown",
   "metadata": {},
   "source": [
    "# Introductory applied machine learning (INFR10069)"
   ]
  },
  {
   "cell_type": "markdown",
   "metadata": {},
   "source": [
    "# Assignment 3: Object recognition"
   ]
  },
  {
   "cell_type": "markdown",
   "metadata": {},
   "source": [
    "## Marking Breakdown\n",
    "\n",
    "**70-100%** results/answer correct plus extra achievement at understanding or analysis of results. Clear explanations, evidence of creative or deeper thought will contribute to a higher grade.\n",
    "\n",
    "**60-69%** results/answer correct or nearly correct and well explained.\n",
    "\n",
    "**50-59%** results/answer in right direction but significant errors.\n",
    "\n",
    "**40-49%** some evidence that the student has gained some understanding, but not answered the questions\n",
    "properly.\n",
    "\n",
    "**0-39%** serious error or slack work."
   ]
  },
  {
   "cell_type": "markdown",
   "metadata": {},
   "source": [
    "## Mechanics\n",
    "\n",
    "Fill out this notebook, save it, and submit it **and a `.txt` file** (see Part 2) in answer to this assignment.\n",
    "**You need to submit these two files electronically as described below.**\n",
    "\n",
    "On a DICE environment, open the terminal, navigate to the location of this notebook, and submit this notebook file using the following command:\n",
    "\n",
    "`submit iaml cw2 07_Assignment_3.ipynb assignment_3_predictions.txt`\n",
    "\n",
    "What actually happens in the background is that your file is placed in a folder available to markers. If you submit a file with the same name into the same location, **it will *overwrite* your previous submission**. You can check the status of your submissions with the `show_submissions` command.\n",
    "\n",
    "**Distance Learners:** To copy your work up to DICE (such that you can use the `submit` command) you can use `scp` or `rsync` (you may need to install these yourself). You can copy files up using `student.ssh.inf.ed.ac.uk`, then ssh in to submit, e.g. (in a unix terminal):\n",
    "```\n",
    "filename1=07_Assignment_3.ipynb\n",
    "local_scp_filepath1=~/git/iaml2017/${filename1}\n",
    "filename2=assignment_3_predictions.txt\n",
    "local_scp_filepath2=~/git/iaml2017/${filename2}\n",
    "UUN=s0816700\n",
    "server_address=student.ssh.inf.ed.ac.uk\n",
    "scp -r ${local_scp_filepath1} ${UUN}@${server_address}:${filename1}\n",
    "scp -r ${local_scp_filepath2} ${UUN}@${server_address}:${filename2}\n",
    "# rsync -rl ${local_scp_filepath1} ${UUN}@${server_address}:${filename1}\n",
    "# rsync -rl ${local_scp_filepath2} ${UUN}@${server_address}:${filename2}\n",
    "ssh ${UUN}@${server_address}\n",
    "ssh student.login\n",
    "submit iaml cw2 07_Assignment_3.ipynb assignment_3_predictions.txt\n",
    "```\n",
    "\n",
    "**Late submissions:** The policy stated in the School of Informatics MSc Degree Guide is that normally you will not be allowed to submit coursework late. See http://www.inf.ed.ac.uk/teaching/years/msc/courseguide10.html#exam for exceptions to this, e.g. in case of serious medical illness or serious personal problems.\n",
    "\n",
    "**Collaboration:** You may discuss the assignment with your colleagues, provided that the writing that you submit is entirely your own. That is, you should NOT borrow actual text or code from other students. We ask that you provide a list of the people who you've had discussions with (if any).\n",
    "\n",
    "**Resubmission:** If you submit your file again, the previous submission is **overwritten**. We will mark the version that is in the submission folder at the deadline."
   ]
  },
  {
   "cell_type": "markdown",
   "metadata": {},
   "source": [
    "## Important Instructions\n",
    "\n",
    "1. You *MUST* have your environment set up as in the [README](https://github.com/JamesOwers/iaml2017) and you *must activate this environment before running this notebook*:\n",
    "```\n",
    "source activate iaml\n",
    "cd iaml_2017\n",
    "jupyter notebook\n",
    "# Navigate to this file\n",
    "```\n",
    "\n",
    "1. Wherever you are required to produce code you should use code cells, otherwise you should use markdown cells to report results and explain answers.\n",
    "\n",
    "1. The .csv files that you will be using are located at `./datasets` (the `datasets` directory is adjacent to this file).\n",
    "\n",
    "1. **IMPORTANT:** Keep your answers brief and concise. Most written questions can be answered with 2-3 lines of explanation."
   ]
  },
  {
   "cell_type": "markdown",
   "metadata": {},
   "source": [
    "## Imports\n",
    "\n",
    "Include all required imports and execute the cell below. It's typical to include package imports at the top of the file for clarity."
   ]
  },
  {
   "cell_type": "code",
   "execution_count": 98,
   "metadata": {
    "collapsed": true
   },
   "outputs": [],
   "source": [
    "from __future__ import print_function, division\n",
    "%matplotlib inline\n",
    "\n",
    "import pandas as pd\n",
    "import seaborn as sns\n",
    "import matplotlib.pyplot as plt\n",
    "import numpy as np\n",
    "from sklearn.linear_model import LogisticRegression\n",
    "from sklearn.linear_model import LogisticRegressionCV\n",
    "from sklearn.preprocessing import StandardScaler\n",
    "from sklearn.model_selection import KFold\n",
    "from sklearn.model_selection import train_test_split\n",
    "from sklearn.ensemble import RandomForestClassifier\n",
    "from operator import itemgetter\n",
    "from sklearn import svm\n",
    "from sklearn.naive_bayes import GaussianNB\n",
    "from sklearn.neural_network import MLPClassifier\n",
    "from sklearn.metrics import log_loss"
   ]
  },
  {
   "cell_type": "markdown",
   "metadata": {},
   "source": [
    "## Description of the dataset\n",
    "In this assignment our goal is to recognize objects in images of realistic scenes. There are 19 different classes of object e.g. person, dog, cat, car, etc. The dataset derives from several thousands photographs harvested from the web. Each object of a relevant class has been manually annotated with a bounding box. Images can contain none, one or multiple objects of each class. We have prepared a [website](http://www.inf.ed.ac.uk/teaching/courses/iaml/2014/assts/asst3/images.html) where you can view the images.\n",
    "\n",
    "We are going to detect whether images contain a person or not - a binary classification problem. To save you time and to make the problem manageable with limited computational resources, we have preprocessed the dataset. We will use the [Bag of Visual Words](https://en.wikipedia.org/wiki/Bag-of-words_model_in_computer_vision) representation. Each column of the dataset (which is not an lable), refers to a 'visual word'. Each image is represented by a 500 dimensional vector that contains the normalized count for each of 500 different visual words present in the respective image (a similar representation is used for the spambase dataset, just for real words). See the Appendix at the bottom of the notebook for more information. The image data is thus a $N \\times 500$ dimensional matrix where `N` is the number of images.\n",
    "\n",
    "The full dataset has 520 attributes (dimensions). The first attribute (`imgID`) contains the image ID which allows you to associate a data point with an actual image. The next 500 attributes (`dim1`, ..., `dim500`) are a normalized count vector for each visual word. The last 19 attributes (`is_class`) are the labels - 1 means the class is present in the image. In most of the experiments (unless explicitly noted otherwise) you will only need the `is_person` attribute and the 500 dimensional feature vector. **Do not use the additional class indicator attributes as features** unless explicitly told to do so. \n",
    "\n",
    "In Part A we provide you with a training (`train_images partA.csv`) and a validation (`valid_images partA .csv`) dataset. In Part B we provide three data sets: a training set (`train_images partB.csv`), a validation set (`valid_images partB.csv`), and a test set (`test_images partB.csv`). The training and validation set contain valid labels. In the test set the labels are missing. The files are available from the GitHub repository. \n",
    "\n",
    "**Important**: *Throughout the assignment you will be given various versions of the dataset that are relevant\n",
    "to a particular question. Please be careful to use the correct version of the dataset when instructed to do so.\n",
    "If you use the wrong version of the dataset by mistake no marks will be awarded.*"
   ]
  },
  {
   "cell_type": "markdown",
   "metadata": {},
   "source": [
    "## 1. Exploration of the dataset [70%]"
   ]
  },
  {
   "cell_type": "markdown",
   "metadata": {},
   "source": [
    "### ========== Question 1.1 --- [1 mark] ==========\n",
    "Create two Pandas DataFrame objects called `train_A` and `valid_A` by loading the datasets `train_images_partA.csv` and `valid_images_partA.csv`. Display the number of data points and attributes in each of the two datasets."
   ]
  },
  {
   "cell_type": "code",
   "execution_count": 2,
   "metadata": {
    "collapsed": true
   },
   "outputs": [],
   "source": [
    "# Import the data\n",
    "train_A = pd.read_csv('datasets/train_images_partA.csv')\n",
    "valid_A = pd.read_csv('datasets/valid_images_partA.csv')"
   ]
  },
  {
   "cell_type": "markdown",
   "metadata": {},
   "source": [
    "### ========== Question 1.2 --- [1 mark] ==========\n",
    "Display and inspect the first 10 instances in the training dataset."
   ]
  },
  {
   "cell_type": "code",
   "execution_count": 3,
   "metadata": {},
   "outputs": [
    {
     "data": {
      "text/html": [
       "<div>\n",
       "<style>\n",
       "    .dataframe thead tr:only-child th {\n",
       "        text-align: right;\n",
       "    }\n",
       "\n",
       "    .dataframe thead th {\n",
       "        text-align: left;\n",
       "    }\n",
       "\n",
       "    .dataframe tbody tr th {\n",
       "        vertical-align: top;\n",
       "    }\n",
       "</style>\n",
       "<table border=\"1\" class=\"dataframe\">\n",
       "  <thead>\n",
       "    <tr style=\"text-align: right;\">\n",
       "      <th></th>\n",
       "      <th>imgId</th>\n",
       "      <th>dim1</th>\n",
       "      <th>dim2</th>\n",
       "      <th>dim3</th>\n",
       "      <th>dim4</th>\n",
       "      <th>dim5</th>\n",
       "      <th>dim6</th>\n",
       "      <th>dim7</th>\n",
       "      <th>dim8</th>\n",
       "      <th>dim9</th>\n",
       "      <th>...</th>\n",
       "      <th>is_cow</th>\n",
       "      <th>is_diningtable</th>\n",
       "      <th>is_dog</th>\n",
       "      <th>is_horse</th>\n",
       "      <th>is_motorbike</th>\n",
       "      <th>is_person</th>\n",
       "      <th>is_pottedplant</th>\n",
       "      <th>is_sheep</th>\n",
       "      <th>is_sofa</th>\n",
       "      <th>is_tvmonitor</th>\n",
       "    </tr>\n",
       "  </thead>\n",
       "  <tbody>\n",
       "    <tr>\n",
       "      <th>0</th>\n",
       "      <td>2008_000008</td>\n",
       "      <td>0.002232</td>\n",
       "      <td>0.000558</td>\n",
       "      <td>0.002790</td>\n",
       "      <td>0.000837</td>\n",
       "      <td>0.001674</td>\n",
       "      <td>0.001953</td>\n",
       "      <td>0.001395</td>\n",
       "      <td>0.002232</td>\n",
       "      <td>0.003627</td>\n",
       "      <td>...</td>\n",
       "      <td>0</td>\n",
       "      <td>0</td>\n",
       "      <td>0</td>\n",
       "      <td>1</td>\n",
       "      <td>0</td>\n",
       "      <td>1</td>\n",
       "      <td>0</td>\n",
       "      <td>0</td>\n",
       "      <td>0</td>\n",
       "      <td>0</td>\n",
       "    </tr>\n",
       "    <tr>\n",
       "      <th>1</th>\n",
       "      <td>2008_000015</td>\n",
       "      <td>0.001563</td>\n",
       "      <td>0.000391</td>\n",
       "      <td>0.007422</td>\n",
       "      <td>0.003516</td>\n",
       "      <td>0.003906</td>\n",
       "      <td>0.005078</td>\n",
       "      <td>0.001953</td>\n",
       "      <td>0.002344</td>\n",
       "      <td>0.001953</td>\n",
       "      <td>...</td>\n",
       "      <td>0</td>\n",
       "      <td>0</td>\n",
       "      <td>0</td>\n",
       "      <td>0</td>\n",
       "      <td>0</td>\n",
       "      <td>0</td>\n",
       "      <td>0</td>\n",
       "      <td>0</td>\n",
       "      <td>0</td>\n",
       "      <td>0</td>\n",
       "    </tr>\n",
       "    <tr>\n",
       "      <th>2</th>\n",
       "      <td>2008_000019</td>\n",
       "      <td>0.000521</td>\n",
       "      <td>0.000000</td>\n",
       "      <td>0.000000</td>\n",
       "      <td>0.001042</td>\n",
       "      <td>0.001563</td>\n",
       "      <td>0.005729</td>\n",
       "      <td>0.000521</td>\n",
       "      <td>0.002083</td>\n",
       "      <td>0.003646</td>\n",
       "      <td>...</td>\n",
       "      <td>0</td>\n",
       "      <td>0</td>\n",
       "      <td>1</td>\n",
       "      <td>0</td>\n",
       "      <td>0</td>\n",
       "      <td>0</td>\n",
       "      <td>0</td>\n",
       "      <td>0</td>\n",
       "      <td>0</td>\n",
       "      <td>0</td>\n",
       "    </tr>\n",
       "    <tr>\n",
       "      <th>3</th>\n",
       "      <td>2008_000023</td>\n",
       "      <td>0.002976</td>\n",
       "      <td>0.002232</td>\n",
       "      <td>0.004464</td>\n",
       "      <td>0.000372</td>\n",
       "      <td>0.000372</td>\n",
       "      <td>0.002232</td>\n",
       "      <td>0.000000</td>\n",
       "      <td>0.003720</td>\n",
       "      <td>0.000000</td>\n",
       "      <td>...</td>\n",
       "      <td>0</td>\n",
       "      <td>0</td>\n",
       "      <td>0</td>\n",
       "      <td>0</td>\n",
       "      <td>0</td>\n",
       "      <td>1</td>\n",
       "      <td>0</td>\n",
       "      <td>0</td>\n",
       "      <td>0</td>\n",
       "      <td>1</td>\n",
       "    </tr>\n",
       "    <tr>\n",
       "      <th>4</th>\n",
       "      <td>2008_000028</td>\n",
       "      <td>0.001359</td>\n",
       "      <td>0.000340</td>\n",
       "      <td>0.001359</td>\n",
       "      <td>0.000340</td>\n",
       "      <td>0.001359</td>\n",
       "      <td>0.002038</td>\n",
       "      <td>0.002378</td>\n",
       "      <td>0.000000</td>\n",
       "      <td>0.003397</td>\n",
       "      <td>...</td>\n",
       "      <td>0</td>\n",
       "      <td>0</td>\n",
       "      <td>0</td>\n",
       "      <td>0</td>\n",
       "      <td>0</td>\n",
       "      <td>0</td>\n",
       "      <td>0</td>\n",
       "      <td>0</td>\n",
       "      <td>0</td>\n",
       "      <td>0</td>\n",
       "    </tr>\n",
       "    <tr>\n",
       "      <th>5</th>\n",
       "      <td>2008_000033</td>\n",
       "      <td>0.000000</td>\n",
       "      <td>0.006324</td>\n",
       "      <td>0.000372</td>\n",
       "      <td>0.000372</td>\n",
       "      <td>0.000372</td>\n",
       "      <td>0.000372</td>\n",
       "      <td>0.000744</td>\n",
       "      <td>0.008185</td>\n",
       "      <td>0.000372</td>\n",
       "      <td>...</td>\n",
       "      <td>0</td>\n",
       "      <td>0</td>\n",
       "      <td>0</td>\n",
       "      <td>0</td>\n",
       "      <td>0</td>\n",
       "      <td>0</td>\n",
       "      <td>0</td>\n",
       "      <td>0</td>\n",
       "      <td>0</td>\n",
       "      <td>0</td>\n",
       "    </tr>\n",
       "    <tr>\n",
       "      <th>6</th>\n",
       "      <td>2008_000036</td>\n",
       "      <td>0.000340</td>\n",
       "      <td>0.000000</td>\n",
       "      <td>0.004416</td>\n",
       "      <td>0.000340</td>\n",
       "      <td>0.000679</td>\n",
       "      <td>0.006114</td>\n",
       "      <td>0.001359</td>\n",
       "      <td>0.002717</td>\n",
       "      <td>0.003057</td>\n",
       "      <td>...</td>\n",
       "      <td>0</td>\n",
       "      <td>0</td>\n",
       "      <td>0</td>\n",
       "      <td>0</td>\n",
       "      <td>0</td>\n",
       "      <td>1</td>\n",
       "      <td>0</td>\n",
       "      <td>0</td>\n",
       "      <td>0</td>\n",
       "      <td>0</td>\n",
       "    </tr>\n",
       "    <tr>\n",
       "      <th>7</th>\n",
       "      <td>2008_000037</td>\n",
       "      <td>0.000837</td>\n",
       "      <td>0.002232</td>\n",
       "      <td>0.000279</td>\n",
       "      <td>0.000279</td>\n",
       "      <td>0.000837</td>\n",
       "      <td>0.000000</td>\n",
       "      <td>0.000279</td>\n",
       "      <td>0.006696</td>\n",
       "      <td>0.000000</td>\n",
       "      <td>...</td>\n",
       "      <td>0</td>\n",
       "      <td>0</td>\n",
       "      <td>0</td>\n",
       "      <td>0</td>\n",
       "      <td>0</td>\n",
       "      <td>0</td>\n",
       "      <td>0</td>\n",
       "      <td>0</td>\n",
       "      <td>0</td>\n",
       "      <td>0</td>\n",
       "    </tr>\n",
       "    <tr>\n",
       "      <th>8</th>\n",
       "      <td>2008_000041</td>\n",
       "      <td>0.002378</td>\n",
       "      <td>0.001359</td>\n",
       "      <td>0.004755</td>\n",
       "      <td>0.001019</td>\n",
       "      <td>0.003736</td>\n",
       "      <td>0.001359</td>\n",
       "      <td>0.001019</td>\n",
       "      <td>0.004076</td>\n",
       "      <td>0.003397</td>\n",
       "      <td>...</td>\n",
       "      <td>0</td>\n",
       "      <td>1</td>\n",
       "      <td>0</td>\n",
       "      <td>0</td>\n",
       "      <td>0</td>\n",
       "      <td>1</td>\n",
       "      <td>0</td>\n",
       "      <td>0</td>\n",
       "      <td>0</td>\n",
       "      <td>0</td>\n",
       "    </tr>\n",
       "    <tr>\n",
       "      <th>9</th>\n",
       "      <td>2008_000045</td>\n",
       "      <td>0.001019</td>\n",
       "      <td>0.000340</td>\n",
       "      <td>0.006454</td>\n",
       "      <td>0.001698</td>\n",
       "      <td>0.001359</td>\n",
       "      <td>0.003736</td>\n",
       "      <td>0.000000</td>\n",
       "      <td>0.004076</td>\n",
       "      <td>0.000000</td>\n",
       "      <td>...</td>\n",
       "      <td>0</td>\n",
       "      <td>0</td>\n",
       "      <td>0</td>\n",
       "      <td>0</td>\n",
       "      <td>0</td>\n",
       "      <td>0</td>\n",
       "      <td>0</td>\n",
       "      <td>0</td>\n",
       "      <td>0</td>\n",
       "      <td>0</td>\n",
       "    </tr>\n",
       "  </tbody>\n",
       "</table>\n",
       "<p>10 rows × 520 columns</p>\n",
       "</div>"
      ],
      "text/plain": [
       "         imgId      dim1      dim2      dim3      dim4      dim5      dim6  \\\n",
       "0  2008_000008  0.002232  0.000558  0.002790  0.000837  0.001674  0.001953   \n",
       "1  2008_000015  0.001563  0.000391  0.007422  0.003516  0.003906  0.005078   \n",
       "2  2008_000019  0.000521  0.000000  0.000000  0.001042  0.001563  0.005729   \n",
       "3  2008_000023  0.002976  0.002232  0.004464  0.000372  0.000372  0.002232   \n",
       "4  2008_000028  0.001359  0.000340  0.001359  0.000340  0.001359  0.002038   \n",
       "5  2008_000033  0.000000  0.006324  0.000372  0.000372  0.000372  0.000372   \n",
       "6  2008_000036  0.000340  0.000000  0.004416  0.000340  0.000679  0.006114   \n",
       "7  2008_000037  0.000837  0.002232  0.000279  0.000279  0.000837  0.000000   \n",
       "8  2008_000041  0.002378  0.001359  0.004755  0.001019  0.003736  0.001359   \n",
       "9  2008_000045  0.001019  0.000340  0.006454  0.001698  0.001359  0.003736   \n",
       "\n",
       "       dim7      dim8      dim9      ...       is_cow  is_diningtable  is_dog  \\\n",
       "0  0.001395  0.002232  0.003627      ...            0               0       0   \n",
       "1  0.001953  0.002344  0.001953      ...            0               0       0   \n",
       "2  0.000521  0.002083  0.003646      ...            0               0       1   \n",
       "3  0.000000  0.003720  0.000000      ...            0               0       0   \n",
       "4  0.002378  0.000000  0.003397      ...            0               0       0   \n",
       "5  0.000744  0.008185  0.000372      ...            0               0       0   \n",
       "6  0.001359  0.002717  0.003057      ...            0               0       0   \n",
       "7  0.000279  0.006696  0.000000      ...            0               0       0   \n",
       "8  0.001019  0.004076  0.003397      ...            0               1       0   \n",
       "9  0.000000  0.004076  0.000000      ...            0               0       0   \n",
       "\n",
       "   is_horse  is_motorbike  is_person  is_pottedplant  is_sheep  is_sofa  \\\n",
       "0         1             0          1               0         0        0   \n",
       "1         0             0          0               0         0        0   \n",
       "2         0             0          0               0         0        0   \n",
       "3         0             0          1               0         0        0   \n",
       "4         0             0          0               0         0        0   \n",
       "5         0             0          0               0         0        0   \n",
       "6         0             0          1               0         0        0   \n",
       "7         0             0          0               0         0        0   \n",
       "8         0             0          1               0         0        0   \n",
       "9         0             0          0               0         0        0   \n",
       "\n",
       "   is_tvmonitor  \n",
       "0             0  \n",
       "1             0  \n",
       "2             0  \n",
       "3             1  \n",
       "4             0  \n",
       "5             0  \n",
       "6             0  \n",
       "7             0  \n",
       "8             0  \n",
       "9             0  \n",
       "\n",
       "[10 rows x 520 columns]"
      ]
     },
     "execution_count": 3,
     "metadata": {},
     "output_type": "execute_result"
    }
   ],
   "source": [
    "# Display first 10 training instances\n",
    "train_A.head(10)"
   ]
  },
  {
   "cell_type": "markdown",
   "metadata": {},
   "source": [
    "### ========== Question 1.3 --- [1 mark] ==========\n",
    "Select the attributes (i.e. input features) for training our classifiers. These should be the visual word normalised counts `dim1, dim2, ..., dim500`. Create a list of the **names** of the attributes of interest. "
   ]
  },
  {
   "cell_type": "code",
   "execution_count": 4,
   "metadata": {},
   "outputs": [
    {
     "name": "stdout",
     "output_type": "stream",
     "text": [
      "['imgId', 'dim1', 'dim2', 'dim3', 'dim4', 'dim5', 'dim6', 'dim7', 'dim8', 'dim9', 'dim10', 'dim11', 'dim12', 'dim13', 'dim14', 'dim15', 'dim16', 'dim17', 'dim18', 'dim19', 'dim20', 'dim21', 'dim22', 'dim23', 'dim24', 'dim25', 'dim26', 'dim27', 'dim28', 'dim29', 'dim30', 'dim31', 'dim32', 'dim33', 'dim34', 'dim35', 'dim36', 'dim37', 'dim38', 'dim39', 'dim40', 'dim41', 'dim42', 'dim43', 'dim44', 'dim45', 'dim46', 'dim47', 'dim48', 'dim49', 'dim50', 'dim51', 'dim52', 'dim53', 'dim54', 'dim55', 'dim56', 'dim57', 'dim58', 'dim59', 'dim60', 'dim61', 'dim62', 'dim63', 'dim64', 'dim65', 'dim66', 'dim67', 'dim68', 'dim69', 'dim70', 'dim71', 'dim72', 'dim73', 'dim74', 'dim75', 'dim76', 'dim77', 'dim78', 'dim79', 'dim80', 'dim81', 'dim82', 'dim83', 'dim84', 'dim85', 'dim86', 'dim87', 'dim88', 'dim89', 'dim90', 'dim91', 'dim92', 'dim93', 'dim94', 'dim95', 'dim96', 'dim97', 'dim98', 'dim99', 'dim100', 'dim101', 'dim102', 'dim103', 'dim104', 'dim105', 'dim106', 'dim107', 'dim108', 'dim109', 'dim110', 'dim111', 'dim112', 'dim113', 'dim114', 'dim115', 'dim116', 'dim117', 'dim118', 'dim119', 'dim120', 'dim121', 'dim122', 'dim123', 'dim124', 'dim125', 'dim126', 'dim127', 'dim128', 'dim129', 'dim130', 'dim131', 'dim132', 'dim133', 'dim134', 'dim135', 'dim136', 'dim137', 'dim138', 'dim139', 'dim140', 'dim141', 'dim142', 'dim143', 'dim144', 'dim145', 'dim146', 'dim147', 'dim148', 'dim149', 'dim150', 'dim151', 'dim152', 'dim153', 'dim154', 'dim155', 'dim156', 'dim157', 'dim158', 'dim159', 'dim160', 'dim161', 'dim162', 'dim163', 'dim164', 'dim165', 'dim166', 'dim167', 'dim168', 'dim169', 'dim170', 'dim171', 'dim172', 'dim173', 'dim174', 'dim175', 'dim176', 'dim177', 'dim178', 'dim179', 'dim180', 'dim181', 'dim182', 'dim183', 'dim184', 'dim185', 'dim186', 'dim187', 'dim188', 'dim189', 'dim190', 'dim191', 'dim192', 'dim193', 'dim194', 'dim195', 'dim196', 'dim197', 'dim198', 'dim199', 'dim200', 'dim201', 'dim202', 'dim203', 'dim204', 'dim205', 'dim206', 'dim207', 'dim208', 'dim209', 'dim210', 'dim211', 'dim212', 'dim213', 'dim214', 'dim215', 'dim216', 'dim217', 'dim218', 'dim219', 'dim220', 'dim221', 'dim222', 'dim223', 'dim224', 'dim225', 'dim226', 'dim227', 'dim228', 'dim229', 'dim230', 'dim231', 'dim232', 'dim233', 'dim234', 'dim235', 'dim236', 'dim237', 'dim238', 'dim239', 'dim240', 'dim241', 'dim242', 'dim243', 'dim244', 'dim245', 'dim246', 'dim247', 'dim248', 'dim249', 'dim250', 'dim251', 'dim252', 'dim253', 'dim254', 'dim255', 'dim256', 'dim257', 'dim258', 'dim259', 'dim260', 'dim261', 'dim262', 'dim263', 'dim264', 'dim265', 'dim266', 'dim267', 'dim268', 'dim269', 'dim270', 'dim271', 'dim272', 'dim273', 'dim274', 'dim275', 'dim276', 'dim277', 'dim278', 'dim279', 'dim280', 'dim281', 'dim282', 'dim283', 'dim284', 'dim285', 'dim286', 'dim287', 'dim288', 'dim289', 'dim290', 'dim291', 'dim292', 'dim293', 'dim294', 'dim295', 'dim296', 'dim297', 'dim298', 'dim299', 'dim300', 'dim301', 'dim302', 'dim303', 'dim304', 'dim305', 'dim306', 'dim307', 'dim308', 'dim309', 'dim310', 'dim311', 'dim312', 'dim313', 'dim314', 'dim315', 'dim316', 'dim317', 'dim318', 'dim319', 'dim320', 'dim321', 'dim322', 'dim323', 'dim324', 'dim325', 'dim326', 'dim327', 'dim328', 'dim329', 'dim330', 'dim331', 'dim332', 'dim333', 'dim334', 'dim335', 'dim336', 'dim337', 'dim338', 'dim339', 'dim340', 'dim341', 'dim342', 'dim343', 'dim344', 'dim345', 'dim346', 'dim347', 'dim348', 'dim349', 'dim350', 'dim351', 'dim352', 'dim353', 'dim354', 'dim355', 'dim356', 'dim357', 'dim358', 'dim359', 'dim360', 'dim361', 'dim362', 'dim363', 'dim364', 'dim365', 'dim366', 'dim367', 'dim368', 'dim369', 'dim370', 'dim371', 'dim372', 'dim373', 'dim374', 'dim375', 'dim376', 'dim377', 'dim378', 'dim379', 'dim380', 'dim381', 'dim382', 'dim383', 'dim384', 'dim385', 'dim386', 'dim387', 'dim388', 'dim389', 'dim390', 'dim391', 'dim392', 'dim393', 'dim394', 'dim395', 'dim396', 'dim397', 'dim398', 'dim399', 'dim400', 'dim401', 'dim402', 'dim403', 'dim404', 'dim405', 'dim406', 'dim407', 'dim408', 'dim409', 'dim410', 'dim411', 'dim412', 'dim413', 'dim414', 'dim415', 'dim416', 'dim417', 'dim418', 'dim419', 'dim420', 'dim421', 'dim422', 'dim423', 'dim424', 'dim425', 'dim426', 'dim427', 'dim428', 'dim429', 'dim430', 'dim431', 'dim432', 'dim433', 'dim434', 'dim435', 'dim436', 'dim437', 'dim438', 'dim439', 'dim440', 'dim441', 'dim442', 'dim443', 'dim444', 'dim445', 'dim446', 'dim447', 'dim448', 'dim449', 'dim450', 'dim451', 'dim452', 'dim453', 'dim454', 'dim455', 'dim456', 'dim457', 'dim458', 'dim459', 'dim460', 'dim461', 'dim462', 'dim463', 'dim464', 'dim465', 'dim466', 'dim467', 'dim468', 'dim469', 'dim470', 'dim471', 'dim472', 'dim473', 'dim474', 'dim475', 'dim476', 'dim477', 'dim478', 'dim479', 'dim480', 'dim481', 'dim482', 'dim483', 'dim484', 'dim485', 'dim486', 'dim487', 'dim488', 'dim489', 'dim490', 'dim491', 'dim492', 'dim493', 'dim494', 'dim495', 'dim496', 'dim497', 'dim498', 'dim499', 'dim500', 'is_aeroplane', 'is_bicycle', 'is_bird', 'is_boat', 'is_bottle', 'is_bus', 'is_car', 'is_cat', 'is_chair', 'is_cow', 'is_diningtable', 'is_dog', 'is_horse', 'is_motorbike', 'is_person', 'is_pottedplant', 'is_sheep', 'is_sofa', 'is_tvmonitor']\n"
     ]
    }
   ],
   "source": [
    "# Create list of attributes\n",
    "attribute_names = list(train_A.columns.values)\n",
    "print(attribute_names)"
   ]
  },
  {
   "cell_type": "markdown",
   "metadata": {},
   "source": [
    "### ========== Question 1.4 --- [1 mark] ==========\n",
    "By using the list from Question 1.3 now create 4 numpy arrays `X_tr`, `X_val`, `y_tr` and `y_val` in which to store the training features, validation features, training targets, and validation targets, respectively. Your target vectors should correspond to the `is_person` attribute of the training and validation sets. Display the dimensionalities (i.e shapes) of the 4 arrays. \n",
    "\n",
    "Check this carefully - you will be penalised in following questions if the data is not correct!"
   ]
  },
  {
   "cell_type": "code",
   "execution_count": 5,
   "metadata": {},
   "outputs": [
    {
     "name": "stdout",
     "output_type": "stream",
     "text": [
      "X_tr: (2093, 500)\n",
      "y_tr: (2093,)\n",
      "X_val: (1113, 500)\n",
      "y_val: (1113,)\n"
     ]
    }
   ],
   "source": [
    "# Setup training data\n",
    "X_tr = train_A.copy().drop(attribute_names[-19:], axis=1).drop('imgId', axis=1)\n",
    "y_tr = train_A.copy()['is_person']\n",
    "# Setup validation data\n",
    "X_val = valid_A.copy().drop(attribute_names[-19:], axis=1).drop('imgId', axis=1)\n",
    "y_val = valid_A.copy()['is_person']\n",
    "print('X_tr:', X_tr.shape)\n",
    "print('y_tr:', y_tr.shape)\n",
    "print('X_val:', X_val.shape)\n",
    "print('y_val:', y_val.shape)"
   ]
  },
  {
   "cell_type": "markdown",
   "metadata": {},
   "source": [
    "### ========== Question 1.5 --- [2 marks] ==========\n",
    "Create a [countplots](https://seaborn.github.io/generated/seaborn.countplot.html?highlight=countplot#seaborn.countplot) for the training and validation targets. Create a single figure, and put the two plots inside the single figure. Label axes appropriately and add a title to your plot. Use descriptive `xticklabels` instead of the default numeric ones."
   ]
  },
  {
   "cell_type": "code",
   "execution_count": 6,
   "metadata": {},
   "outputs": [
    {
     "data": {
      "image/png": "[encoded data removed]",
      "text/plain": [
       "<matplotlib.figure.Figure at 0x7f8579acdcd0>"
      ]
     },
     "metadata": {},
     "output_type": "display_data"
    }
   ],
   "source": [
    "fig, (ax1, ax2) = plt.subplots(1, 2, figsize=(8,4))\n",
    "sns.countplot(x=y_tr, ax=ax1)\n",
    "sns.countplot(x=y_val, ax=ax2)\n",
    "ax1.set_title('Training Data')\n",
    "ax2.set_title('Validation Data')\n",
    "ax1.set_xticklabels(['Person', 'Not Person'])\n",
    "ax2.set_xticklabels(['Person', 'Not Person'])\n",
    "ax1.set_xlabel('Image Class')# Your code goes here\n",
    "ax2.set_xlabel('Image Class')\n",
    "ax1.set_ylabel('Number of Images')\n",
    "ax2.set_ylabel('Number of Images')\n",
    "plt.show()"
   ]
  },
  {
   "cell_type": "markdown",
   "metadata": {},
   "source": [
    "### ========== Question 1.6 --- [1 mark] ==========\n",
    "We want to make a baseline classification accuracy to beat. Pick a baseline \"dummy\" classifier, describe in a sentence why you chose it, and report the accuracy it achieves on the validation set?"
   ]
  },
  {
   "cell_type": "markdown",
   "metadata": {},
   "source": [
    "A simple baseline classifier is just one that predicts the most common class every time. It's a good choice because any classifier that does worse than this should definitely not be used and it's an incredibly simple algorithm to implement yet achieves a relatively good accuracy of 52.7% on the test dataset."
   ]
  },
  {
   "cell_type": "code",
   "execution_count": 7,
   "metadata": {},
   "outputs": [
    {
     "name": "stdout",
     "output_type": "stream",
     "text": [
      "Baseline Accuracy: 52.6504941599 %\n"
     ]
    }
   ],
   "source": [
    "total_data_points = y_tr.shape[0]\n",
    "num_person = np.sum(y_tr)\n",
    "num_not_person = total_data_points - num_person\n",
    "most_common_class = np.argmax([num_not_person, num_person])\n",
    "baseline_accuracy = (most_common_class == y_val).sum()/y_val.shape[0]\n",
    "print('Baseline Accuracy:',baseline_accuracy*100,\"%\")"
   ]
  },
  {
   "cell_type": "markdown",
   "metadata": {},
   "source": [
    "### ========== Question 1.7 --- [3 marks] ==========\n",
    "Train a [`LogisticRegression`](http://scikit-learn.org/0.17/modules/generated/sklearn.linear_model.LogisticRegression.html) classifier using default settings, except for the `solver` parameter which you should set to `lbfgs`. Report the classification accuracy score on the training and validation sets and compare with the baseline. Comment on the results with 1-2 sentences. You may include any additional plot(s) if you wish to justify your explanation."
   ]
  },
  {
   "cell_type": "code",
   "execution_count": 8,
   "metadata": {},
   "outputs": [
    {
     "name": "stdout",
     "output_type": "stream",
     "text": [
      "Accuracy Training: 55.088389871%\r\n",
      "Accuracy Validation: 52.6504941599%\n"
     ]
    }
   ],
   "source": [
    "lr = LogisticRegression(solver='lbfgs')\n",
    "lr.fit(X=X_tr, y=y_tr)\n",
    "lr_pred = lr.predict(X_val)\n",
    "accuracy_training = (lr.predict(X_tr) == y_tr).sum()/y_tr.shape[0]\n",
    "accuracy_validation = (lr_pred == y_val).sum()/y_val.shape[0]\n",
    "print('Accuracy Training: {}%\\r\\nAccuracy Validation: {}%'.format(accuracy_training*100, accuracy_validation*100))"
   ]
  },
  {
   "cell_type": "markdown",
   "metadata": {},
   "source": [
    "The accuracy of the logistic regression on the validation set is 52.7%, which is not any better than the baseline classifier. Logistic regression can be heavily affected by outliers or high standard deviation, so given that the data hasn't been pre-processed at all this may be contributing to the low classification rate."
   ]
  },
  {
   "cell_type": "markdown",
   "metadata": {},
   "source": [
    "### ========== Question 1.8 --- [1 mark] ==========\n",
    "Display the means and standard deviations of the first 5 features in the training set. *Hint: you want to compute the means and standard deviations for each column in your arrays. Make sure you make appropriate use of the `axis` parameter.*"
   ]
  },
  {
   "cell_type": "code",
   "execution_count": 9,
   "metadata": {},
   "outputs": [
    {
     "name": "stdout",
     "output_type": "stream",
     "text": [
      "Mean first 5 features: [ 0.00175058  0.00075592  0.00431695  0.00185278  0.00227248]\n",
      "Standard Deviation first 5 features: [ 0.00119281  0.00140604  0.00369255  0.00134017  0.00159773]\n"
     ]
    }
   ],
   "source": [
    "data_mean = np.mean(X_tr, axis=0)\n",
    "data_stdDev = np.std(X_tr, axis=0)\n",
    "print('Mean first 5 features: {}'.format(data_mean[:5].values))\n",
    "print('Standard Deviation first 5 features: {}'.format(data_stdDev[:5].values))"
   ]
  },
  {
   "cell_type": "markdown",
   "metadata": {},
   "source": [
    "### ========== Question 1.9 --- [3 marks] ==========\n",
    "Feature standardisation is a pre-processing technique used to transform data so that they have zero mean and unit standard deviation. For many algorithms, this is a very important step for training models (both regression and classification). Read about [feature standardisation](http://scikit-learn.org/0.17/modules/preprocessing.html) and make sure you understand what kind of transformation this method applies to the data.\n",
    "\n",
    "`Scikit-learn` offers a [class](http://scikit-learn.org/0.17/modules/generated/sklearn.preprocessing.StandardScaler.html) for feature standardisation. Instansiate a StandardScaler object and fit it using the **training features**. Use this fitted object to transform both your training and validation features to have a standard scale. \n",
    "\n",
    "Once your training and validation input data have been transformed, display the means and standard deviations of the first 5 attributes for **both** the training and validation sets. Are the results as you expected? Explain your answer in 2-3 sentences. Why didn't we use the validation set to standardise the data?\n",
    "\n",
    "**IMPORTANT: You should use the transformed data for the rest of this part.**"
   ]
  },
  {
   "cell_type": "code",
   "execution_count": 10,
   "metadata": {},
   "outputs": [
    {
     "name": "stdout",
     "output_type": "stream",
     "text": [
      "Mean first 5 features: [ -3.39485301e-17  -2.20665446e-17   2.44429417e-16   1.42583827e-16\n",
      "  -5.77125012e-17]\n",
      "Standard Deviation first 5 features: [ 1.01310886  0.96981949  1.0492285   1.05684479  0.97471336]\n"
     ]
    }
   ],
   "source": [
    "sc = StandardScaler()\n",
    "sc = sc.fit(X_tr)\n",
    "transf_x_tr = sc.transform(X_tr)\n",
    "transf_x_val = sc.transform(X_val)\n",
    "data_mean_transf = np.mean(transf_x_tr, axis=0)\n",
    "data_stdDev_transf = np.std(transf_x_val, axis=0)\n",
    "print('Mean first 5 features: {}'.format(data_mean_transf[:5]))\n",
    "print('Standard Deviation first 5 features: {}'.format(data_stdDev_transf[:5]))"
   ]
  },
  {
   "cell_type": "markdown",
   "metadata": {},
   "source": [
    "The answers are about what I would expect as each mean is very nearly 0 and the standard deviations are all very close to 1. The training set is used to standardize the data since it's a large dataset that we consider representative of the rest of the data."
   ]
  },
  {
   "cell_type": "markdown",
   "metadata": {},
   "source": [
    "### ========== Question 1.10 --- [3 marks] ==========\n",
    "By using the transformed input data, train a new `LogisticRegression` classifier. Again, set the `solver` parameter to `lbfgs` and use default settings for the other parameters. Report the classification accuracy on both the training and validation sets.\n",
    "\n",
    "Comment on how your model compares to the baseline classifier from Question 1.6? You may use additional plot(s) to support your explanation."
   ]
  },
  {
   "cell_type": "code",
   "execution_count": 11,
   "metadata": {},
   "outputs": [
    {
     "name": "stdout",
     "output_type": "stream",
     "text": [
      "Accuracy Training: 65.1218346871%\r\n",
      "Accuracy Validation: 64.3306379155%\n"
     ]
    }
   ],
   "source": [
    "lr_transf = LogisticRegression(solver='lbfgs')\n",
    "lr_transf = lr_transf.fit(transf_x_tr, y_tr)\n",
    "lr_transf_pred = lr_transf.predict(transf_x_val)\n",
    "accuracy_training = (lr.predict(transf_x_tr) == y_tr).sum()/y_tr.shape[0]\n",
    "accuracy_validation = (lr_transf_pred == y_val).sum()/y_val.shape[0]\n",
    "print('Accuracy Training: {}%\\r\\nAccuracy Validation: {}%'.format(accuracy_training*100, accuracy_validation*100))"
   ]
  },
  {
   "cell_type": "markdown",
   "metadata": {},
   "source": [
    "The logistic regression classifier performs significantly better than the baseline classifier after the data has been standardized. This fixes the problem seen in the last logistic regression."
   ]
  },
  {
   "cell_type": "markdown",
   "metadata": {},
   "source": [
    "### ========== Question 1.11 --- [1 mark] ==========\n",
    "So far we have used default settings for training the logistic regression classifier. Now, we want to use [K-fold cross-validation](http://scikit-learn.org/stable/modules/generated/sklearn.model_selection.KFold.html) to optimise the regularisation parameter `C`. The regularisation parameter controls the degree to which we wish to penalise large magnitudes in the weight vector. This can help us prevent overfitting but, if set too high, could lead us to underfit too.\n",
    "\n",
    "Create a 3-fold cross-validation object. Set the `shuffle` parameter to `True` and the `random_state` to `0`. By using the cross-validation iterator, display the number of test samples for each fold."
   ]
  },
  {
   "cell_type": "code",
   "execution_count": 12,
   "metadata": {},
   "outputs": [
    {
     "name": "stdout",
     "output_type": "stream",
     "text": [
      "Test size per fold: [ 698.  698.  697.]\n"
     ]
    }
   ],
   "source": [
    "kf = KFold(n_splits=3, shuffle=True, random_state=0)\n",
    "i = 0\n",
    "fold_test_size = np.zeros(3)\n",
    "for train, test in kf.split(transf_x_tr):\n",
    "    fold_test_size[i] = test.shape[0]\n",
    "    i+=1\n",
    "print('Test size per fold:', fold_test_size)"
   ]
  },
  {
   "cell_type": "markdown",
   "metadata": {},
   "source": [
    "### ========== Question 1.12 --- [2 marks] ========== \n",
    "Using the cross-validation iterator from the previous question, perform a search for the best value for `C`. \n",
    "\n",
    "We are going to loop over each CV fold, and each value of `C`. The values of `C` to search should be 20 equally-spaced values **in log space** ranging from `1e-5` to `1e5` *(hint: look at the `logspace()` function in numpy)*. \n",
    "\n",
    "Create a 2-dimensional array and, for each cross-validation fold and parameter setting pair, compute and store the classification accuracy score e.g. store the score of fold 0 with parameter setting 1 at score_array[0,1]. As previously, set the `solver` parameter to `lbfgs` and use default settings for the other parameters (except for `C` obviously!).\n",
    "\n",
    "*(hint: you could use two loops in your code; one iterating over CV folds and another one iterating over the values for `C`)*. "
   ]
  },
  {
   "cell_type": "code",
   "execution_count": 13,
   "metadata": {},
   "outputs": [
    {
     "name": "stdout",
     "output_type": "stream",
     "text": [
      "[[ 0.5730659   0.62893983  0.66762178  0.67191977  0.68767908  0.69627507\n",
      "   0.6747851   0.67048711  0.65329513  0.65902579  0.65902579  0.65329513\n",
      "   0.64899713  0.64613181  0.64613181  0.64899713  0.64613181  0.64613181\n",
      "   0.64899713  0.64899713]\n",
      " [ 0.54584527  0.63180516  0.69484241  0.71919771  0.72922636  0.73495702\n",
      "   0.70200573  0.6747851   0.65472779  0.63610315  0.63180516  0.63323782\n",
      "   0.6260745   0.62750716  0.62750716  0.6260745   0.6260745   0.6260745\n",
      "   0.62750716  0.6260745 ]\n",
      " [ 0.54806313  0.63558106  0.64275466  0.65566714  0.68005739  0.70014347\n",
      "   0.68149211  0.67001435  0.66284075  0.64418938  0.63271162  0.62553802\n",
      "   0.6241033   0.6241033   0.6241033   0.6241033   0.6241033   0.6241033\n",
      "   0.6241033   0.6241033 ]]\n"
     ]
    }
   ],
   "source": [
    "search_space_c = np.logspace(-5, 5, num=20)\n",
    "accuracy_values = np.zeros((3, search_space_c.shape[0]))\n",
    "for i in range(search_space_c.shape[0]):\n",
    "    lr_cv = LogisticRegression(solver='lbfgs', C=search_space_c[i])\n",
    "    current_fold_num = 0\n",
    "    for train, test in kf.split(transf_x_tr):\n",
    "        lr_cv = lr_cv.fit(transf_x_tr[train], y_tr[train])\n",
    "        pred = lr_cv.predict(transf_x_tr[test])\n",
    "        accuracy = (pred == y_tr[test]).sum()/y_tr[test].shape[0]\n",
    "        accuracy_values[current_fold_num, i] = accuracy\n",
    "        current_fold_num += 1\n",
    "print(accuracy_values)"
   ]
  },
  {
   "cell_type": "markdown",
   "metadata": {},
   "source": [
    "# ========== Question 1.13 --- [1 mark] ========== \n",
    "Plot the mean classification performance (across CV folds) of the logistic regression classifier against the regularisation parameter `C` by using the range from Question 1.12. Use a logarithmic scale for the x-axis and label both axes appropriately. "
   ]
  },
  {
   "cell_type": "code",
   "execution_count": 14,
   "metadata": {},
   "outputs": [
    {
     "name": "stdout",
     "output_type": "stream",
     "text": [
      "[ 0.5556581   0.63210868  0.66840628  0.68226154  0.69898761  0.71045852\n",
      "  0.68609431  0.67176218  0.65695456  0.64643944  0.64118086  0.63735699\n",
      "  0.63305831  0.63258076  0.63258076  0.63305831  0.6321032   0.6321032\n",
      "  0.63353587  0.63305831]\n"
     ]
    },
    {
     "data": {
      "image/png": "[encoded data removed]",
      "text/plain": [
       "<matplotlib.figure.Figure at 0x7f8579aa52d0>"
      ]
     },
     "metadata": {},
     "output_type": "display_data"
    }
   ],
   "source": [
    "fold_mean = np.mean(accuracy_values, axis=0)\n",
    "plt.scatter(np.log(search_space_c), fold_mean)\n",
    "plt.xlabel('Log C Value')\n",
    "plt.ylabel('Mean Classifier Accuracy')\n",
    "plt.title('Mean Accuracy vs Log C Value')\n",
    "print(fold_mean)"
   ]
  },
  {
   "cell_type": "markdown",
   "metadata": {},
   "source": [
    "### ========== Question 1.14 --- [2 marks] ==========\n",
    "Display the optimal value for the regularisation parameter `C` determined by the search results from Question 1.12. Similarly to Question 1.13, consider the mean classifiation accuracy across CV folds. By using the optimal value (i.e. the one that yields the highest average classification accuracy) train a new `LogisticRegression` classifier and report the classification accuracy on the validation set. *(Hint: Do not pick the optimal value \"by hand\", instead use an appropriate numpy function).*"
   ]
  },
  {
   "cell_type": "code",
   "execution_count": 15,
   "metadata": {},
   "outputs": [
    {
     "name": "stdout",
     "output_type": "stream",
     "text": [
      "Optimal C Value: 0.00428133239872\n",
      "Accuracy: 69.6316262354%\n"
     ]
    }
   ],
   "source": [
    "optimal_c_index = np.argmax(fold_mean)\n",
    "optimal_c_value = search_space_c[optimal_c_index]\n",
    "print(\"Optimal C Value: {}\".format(optimal_c_value))\n",
    "# Train a new logistic regression\n",
    "optimal_lr = LogisticRegression(solver='lbfgs', C=optimal_c_value)\n",
    "optimal_lr = optimal_lr.fit(transf_x_tr, y_tr)\n",
    "pred_optimal_lr = optimal_lr.predict(transf_x_val)\n",
    "accuracy = (pred_optimal_lr == y_val).sum()/y_val.shape[0]\n",
    "print(\"Accuracy: {}%\".format(accuracy*100))"
   ]
  },
  {
   "cell_type": "markdown",
   "metadata": {},
   "source": [
    "### ========== Question 1.15 --- [1 mark] ========== \n",
    "Scikit-learn offers a [`LogisticRegressionCV`](http://scikit-learn.org/0.17/modules/generated/sklearn.linear_model.LogisticRegressionCV.html) module which implements Logistic Regression with builtin cross-validation to find out the optimal `C` parameter. You can specify the range for the `C` parameter, as well as the cross-validation method you want to use with the `Cs` and `cv` parameters, respectively. Use the `C` range you set up in Question 1.12 and the 3-fold cross-validation iterator from Question 1.11. Once again, train the models by using the `lbfgs` optimisation method and display the optimal value for the parameter `C`. Finally, display the classification accuracy on the validation set. Check your results are consistent with those from Question 1.14!"
   ]
  },
  {
   "cell_type": "code",
   "execution_count": 16,
   "metadata": {},
   "outputs": [
    {
     "name": "stdout",
     "output_type": "stream",
     "text": [
      "C Value: 0.00428133239872\n",
      "Accuracy: 69.6316262354%\n"
     ]
    }
   ],
   "source": [
    "logistic_regression_cv = LogisticRegressionCV(solver='lbfgs', Cs=search_space_c, cv=kf)\n",
    "logistic_regression_cv.fit(transf_x_tr, y_tr)\n",
    "pred_lr_cv = optimal_lr.predict(transf_x_val)\n",
    "print(\"C Value: {}\".format(logistic_regression_cv.C_[0]))\n",
    "accuracy = (pred_lr_cv == y_val).sum()/y_val.shape[0]\n",
    "print(\"Accuracy: {}%\".format(accuracy*100))"
   ]
  },
  {
   "cell_type": "markdown",
   "metadata": {},
   "source": [
    "### ========== Question 1.16 --- [1 mark] ==========\n",
    "Now, we want to validate the importance of various features for classification. For this purpose, we will use a [`RandomForestClassifier`](http://scikit-learn.org/stable/modules/generated/sklearn.ensemble.RandomForestClassifier.html) (you might want to refer to the labs if you are unsure how we can estimate feature importances with decision tree and random forest models).\n",
    "\n",
    "Initialise a random forest classifier and fit the model by using training data only and 500 trees (i.e. `n_estimators`). Set the `RandomState` equal to 42 to ensure reproducible results. Report the accuracy score on both the training and validation sets."
   ]
  },
  {
   "cell_type": "code",
   "execution_count": 17,
   "metadata": {},
   "outputs": [
    {
     "name": "stdout",
     "output_type": "stream",
     "text": [
      "Training Accuracy: 100.0%\n",
      "Accuracy: 69.2722371968%\n"
     ]
    }
   ],
   "source": [
    "transf_x_train, transf_x_test, y_train, y_test = train_test_split(transf_x_tr, y_tr, test_size=.2, random_state=42)\n",
    "rf_classifier = RandomForestClassifier(n_estimators=500, random_state=42)\n",
    "rf_classifier.fit(transf_x_tr, y_tr)\n",
    "pred_rf_training = rf_classifier.predict(transf_x_tr)\n",
    "pred_rf = rf_classifier.predict(transf_x_val)\n",
    "accuracy = (pred_rf == y_val).sum()/y_val.shape[0]\n",
    "accuracy_tr = (pred_rf_training == y_tr).sum()/y_tr.shape[0]\n",
    "print(\"Training Accuracy: {}%\".format(accuracy_tr*100))\n",
    "print(\"Accuracy: {}%\".format(accuracy*100))"
   ]
  },
  {
   "cell_type": "markdown",
   "metadata": {},
   "source": [
    "### ========== Question 1.17 --- [2 marks] ==========\n",
    "Comment on the results above. Do you find the discrepancy between training and validation accuracies surprising?"
   ]
  },
  {
   "cell_type": "markdown",
   "metadata": {},
   "source": [
    "There is a huge discrepancy between the training and validation accuracies. This is not surprising since the way random forest trains is by perfectly fitting the training data. This would be different with a classifier such as Naive Bayes, which doesn't perfectly fit the training data."
   ]
  },
  {
   "cell_type": "markdown",
   "metadata": {},
   "source": [
    "### ========== Question 1.18 --- [2 marks] ==========\n",
    "By using the random forest model from the previous question order the features by descending importance and display the names of the 50 most important features."
   ]
  },
  {
   "cell_type": "code",
   "execution_count": 18,
   "metadata": {},
   "outputs": [
    {
     "name": "stdout",
     "output_type": "stream",
     "text": [
      "[('dim20', 0.0075719505701260965), ('dim50', 0.0075594322149745204), ('dim359', 0.0070315402883795704), ('dim3', 0.0061929705370030591), ('dim478', 0.0060540675045530276), ('dim75', 0.0060262086838827065), ('dim282', 0.0058105619577742519), ('dim460', 0.0056058489053563308), ('dim342', 0.0054513322650658197), ('dim397', 0.0048591610911170079), ('dim347', 0.0047832305242377221), ('dim73', 0.0047419278129818138), ('dim484', 0.0047160452789987159), ('dim355', 0.0047022181382774964), ('dim329', 0.0046400953650727866), ('dim216', 0.0046058375787848471), ('dim262', 0.004577404157967961), ('dim221', 0.0042181328053523719), ('dim133', 0.0041313654581943008), ('dim499', 0.0040637948024201979), ('dim273', 0.0040416252061222626), ('dim253', 0.0040019579222058243), ('dim205', 0.0038899958735214781), ('dim422', 0.0038673852895302475), ('dim346', 0.0038130599781742995), ('dim16', 0.0037277779229481956), ('dim325', 0.0037043236955780121), ('dim89', 0.003703172661177383), ('dim91', 0.0037007988101297093), ('dim328', 0.003687210362649383), ('dim213', 0.0036676459142687113), ('dim321', 0.0036134338766544553), ('dim288', 0.003595346912535817), ('dim53', 0.0035909587517429374), ('dim439', 0.0035810213699269018), ('dim426', 0.0035761205471165495), ('dim72', 0.0034617930464178734), ('dim34', 0.0034613280076354314), ('dim76', 0.0034144246543663707), ('dim311', 0.0033631172637428029), ('dim314', 0.0033369665831289438), ('dim95', 0.0033122293758115662), ('dim287', 0.0033080171115574459), ('dim482', 0.0032585557535926954), ('dim298', 0.0032508807562648353), ('dim47', 0.0032058471514611947), ('dim441', 0.0031713532983600485), ('dim200', 0.0030561034829098186), ('dim343', 0.0030115927967987893), ('dim293', 0.0030056350037862005)]\n"
     ]
    }
   ],
   "source": [
    "feature_importance = zip(attribute_names, rf_classifier.feature_importances_, )\n",
    "feature_importance = sorted(feature_importance, key=itemgetter(1))[::-1]\n",
    "top_50_features = feature_importance[:50]\n",
    "print(top_50_features)"
   ]
  },
  {
   "cell_type": "markdown",
   "metadata": {},
   "source": [
    "### ========== Question 1.19 --- [3 marks] ==========\n",
    "Next, we would like to test the performance of support vector machines. Train three support vector classifiers with the following kernels: linear, radial basis function, and polynomial. Report the classification accuracy of each of the three classifiers on both the training and validation sets."
   ]
  },
  {
   "cell_type": "code",
   "execution_count": 19,
   "metadata": {},
   "outputs": [
    {
     "name": "stdout",
     "output_type": "stream",
     "text": [
      "Training Accuracy: 65.8711217184% Testing Accuracy: 64.5103324349% - Linear\n",
      "Training Accuracy: 71.5990453461% Testing Accuracy: 71.9676549865% - Radial Basis\n",
      "Training Accuracy: 71.1217183771% Testing Accuracy: 69.9011680144% - Polynomial\n"
     ]
    }
   ],
   "source": [
    "# Create 3 SVMs\n",
    "svm_linear = svm.LinearSVC()\n",
    "svm_radial_basis = svm.SVC(kernel='rbf')\n",
    "svm_polynomial = svm.SVC(kernel='poly')\n",
    "# Train the SVMs\n",
    "svm_linear.fit(transf_x_train, y_train)\n",
    "svm_radial_basis.fit(transf_x_train, y_train)\n",
    "svm_polynomial.fit(transf_x_train, y_train)\n",
    "# Calculate accuracy\n",
    "svm_linear_accuracy_train = (svm_linear.predict(transf_x_test) == y_test).sum()/y_test.shape[0] * 100\n",
    "svm_linear_accuracy_val = (svm_linear.predict(transf_x_val) == y_val).sum()/y_val.shape[0] * 100\n",
    "svm_radial_basis_accuracy_train = (svm_radial_basis.predict(transf_x_test) == y_test).sum()/y_test.shape[0] * 100\n",
    "svm_radial_basis_accuracy_val = (svm_radial_basis.predict(transf_x_val) == y_val).sum()/y_val.shape[0] * 100\n",
    "svm_polynomial_accuracy_train = (svm_polynomial.predict(transf_x_test) == y_test).sum()/y_test.shape[0] * 100\n",
    "svm_polynomial_accuracy_val = (svm_polynomial.predict(transf_x_val) == y_val).sum()/y_val.shape[0] * 100\n",
    "# Display accuracy for each classifier\n",
    "print(\"Training Accuracy: {}% Testing Accuracy: {}% - Linear\".format(svm_linear_accuracy_train, svm_linear_accuracy_val))\n",
    "print(\"Training Accuracy: {}% Testing Accuracy: {}% - Radial Basis\".format(svm_radial_basis_accuracy_train, svm_radial_basis_accuracy_val))\n",
    "print(\"Training Accuracy: {}% Testing Accuracy: {}% - Polynomial\".format(svm_polynomial_accuracy_train, svm_polynomial_accuracy_val))"
   ]
  },
  {
   "cell_type": "markdown",
   "metadata": {},
   "source": [
    "### ========== Question 1.20 --- [3 marks] ==========\n",
    "At this point, we would like to get an idea of what kind of decision boundaries we can get with the three types of SVM kernels we introduced in the previous question. For visualisation, however, we can only make use of 2D input data. For this purpose, we select to use the 21st and 76th columns of our training features (*hint: remember that Python uses 0-based indexing*). \n",
    "\n",
    "Execute the cell below to define a useful function which we will be using to plot the decision boundaries *(it is also not a bad idea to try to understand what this functions does)*. \n",
    "\n",
    "Then train three distinct SVM classifiers by using the 2D input data mentioned above and default parameters:\n",
    "* a linear SVC\n",
    "* an RBF SVC \n",
    "* a polynomial SVC\n",
    "\n",
    "Finally, create a list containing the three classifiers you have just trained. Use this list as an input to the provided function along with the used training features and observe the outcome. You can use the additional `title` parameter to set the titles in the subplots. Comment on the shape of the boundaries and what this means for classification accuracy in 1-2 sentences.\n",
    "\n",
    "*(Acknowledgement: this Question has been heavily based on [this example](http://scikit-learn.org/0.17/auto_examples/svm/plot_iris.html) from scikit-learn's documentation.)*"
   ]
  },
  {
   "cell_type": "code",
   "execution_count": 20,
   "metadata": {
    "collapsed": true
   },
   "outputs": [],
   "source": [
    "def show_svc_decision_boundaries(clfs, X, title=None):\n",
    "    \"\"\"Plots decision boundaries for classifiers with 2D inputs.\n",
    "    \n",
    "    Parameters\n",
    "    ----------\n",
    "    clf : list\n",
    "        Classifiers for which decision boundaries will be displayed.\n",
    "    X : array\n",
    "        Input features used to train the classifiers.\n",
    "    title : list, optional\n",
    "        Titles for classifiers.\n",
    "    \n",
    "    \"\"\"\n",
    "    \n",
    "    assert X.shape[1] == 2 # Input should be 2D\n",
    "    if title is not None:\n",
    "        assert len(clfs) == len(title)\n",
    "    \n",
    "    h = .04 # step size in the mesh\n",
    "    x_min, x_max = X[:, 0].min() - 1, X[:, 0].max() + 1\n",
    "    y_min, y_max = X[:, 1].min() - 1, X[:, 1].max() + 1\n",
    "    xx, yy = np.meshgrid(np.arange(x_min, x_max, h),\n",
    "                         np.arange(y_min, y_max, h))\n",
    "    plt.figure(figsize=(15,5))\n",
    "    for i, clf in enumerate(clfs):\n",
    "        plt.subplot(1, len(clfs), i + 1)\n",
    "        plt.subplots_adjust(wspace=0.4, hspace=0.4)\n",
    "        Z = clf.predict(np.c_[xx.ravel(), yy.ravel()])\n",
    "        Z = Z.reshape(xx.shape)\n",
    "        plt.contourf(xx, yy, Z, cmap=plt.cm.Paired, alpha=0.8)\n",
    "        # Training points\n",
    "        plt.scatter(X[:, 0], X[:, 1], c=y_tr, cmap=plt.cm.Paired)\n",
    "        plt.xlabel('Feature 1')\n",
    "        plt.ylabel('Feature 2')\n",
    "        plt.xlim(xx.min(), xx.max())\n",
    "        plt.ylim(yy.min(), yy.max())\n",
    "        plt.xticks(())\n",
    "        plt.yticks(())\n",
    "        if title is not None:\n",
    "            plt.title(title[i])"
   ]
  },
  {
   "cell_type": "code",
   "execution_count": 21,
   "metadata": {},
   "outputs": [
    {
     "data": {
      "image/png": "[encoded data removed]",
      "text/plain": [
       "<matplotlib.figure.Figure at 0x7f85c2f1fb50>"
      ]
     },
     "metadata": {},
     "output_type": "display_data"
    }
   ],
   "source": [
    "select_x_train = transf_x_tr[:, [20, 75]]\n",
    "select_x_val = transf_x_val[:, [20, 75]]\n",
    "# y_tr = y_tr.astype(float)\n",
    "# Create 3 SVMs\n",
    "select_svm_linear = svm.LinearSVC()\n",
    "select_svm_radial_basis = svm.SVC(kernel='rbf')\n",
    "select_svm_polynomial = svm.SVC(kernel='poly')\n",
    "# Train the SVMs\n",
    "select_svm_linear.fit(select_x_train, y_tr)\n",
    "select_svm_radial_basis.fit(select_x_train, y_tr)\n",
    "select_svm_polynomial.fit(select_x_train, y_tr)\n",
    "titles = ['Linear', 'Polynomial', 'Radial']\n",
    "show_svc_decision_boundaries([select_svm_linear, select_svm_polynomial, select_svm_radial_basis], select_x_train, titles)"
   ]
  },
  {
   "cell_type": "markdown",
   "metadata": {},
   "source": [
    "*Your answer goes here*"
   ]
  },
  {
   "cell_type": "markdown",
   "metadata": {},
   "source": [
    "### ========== Question 1.21 --- [5 marks] ==========\n",
    "So far we have used default parameters for training the SVM classifiers. Now we want to tune the parameters by using cross-validation. \n",
    "\n",
    "By using the `K-fold` iterator from Question 1.11 and training data only, estimate the classification accuracy of an SVM classifier with RBF kernel, while you vary the penalty parameter `C` in a logarithmic range `np.logspace(-2, 3, 10)`. Set the kernel coefficient parameter `gamma` to `auto` for this question. \n",
    "\n",
    "Plot the mean cross-validated classification accuracy against the regularisation parameter `C` by using a log-scale for the x-axis. Display the highest obtained mean accuracy score and the value of `C` which yielded it. Label axes appropriately. \n",
    "\n",
    "Finally, train a classifier by using the optimal value for this parameter (without using cross-validation at this stage) and report the classification accuracy on the training and validation sets. "
   ]
  },
  {
   "cell_type": "code",
   "execution_count": 22,
   "metadata": {},
   "outputs": [
    {
     "data": {
      "image/png": "[encoded data removed]",
      "text/plain": [
       "<matplotlib.figure.Figure at 0x7f85769aee10>"
      ]
     },
     "metadata": {},
     "output_type": "display_data"
    },
    {
     "name": "stdout",
     "output_type": "stream",
     "text": [
      "Accuracy Test: 97.4677496417%\n",
      "Accuracy Val: 72.7762803235%\n"
     ]
    }
   ],
   "source": [
    "c_range = np.logspace(-2, 3, 10)\n",
    "mean_accuracy_values = np.zeros(c_range.shape[0])\n",
    "for i in range(c_range.shape[0]):\n",
    "    rbf_classifier = svm.SVC(kernel='rbf', gamma='auto', C=c_range[i])\n",
    "    current_fold_num = 0\n",
    "    for train, test in kf.split(transf_x_tr):\n",
    "        rbf_classifier = rbf_classifier.fit(transf_x_tr[train], y_tr[train])\n",
    "        pred = rbf_classifier.predict(transf_x_tr[test])\n",
    "        accuracy = (pred == y_tr[test]).sum()/y_tr[test].shape[0]\n",
    "        mean_accuracy_values[i] += accuracy\n",
    "        current_fold_num += 1\n",
    "mean_accuracy_values = mean_accuracy_values/3\n",
    "plt.scatter(np.log(c_range), mean_accuracy_values)\n",
    "plt.show()\n",
    "optimal_c = c_range[np.argmax(mean_accuracy_values)]\n",
    "rbf_optimal = svm.SVC(kernel='rbf', gamma='auto', C=optimal_c)\n",
    "rbf_optimal.fit(transf_x_tr, y_tr)\n",
    "pred = rbf_optimal.predict(transf_x_tr)\n",
    "accuracy_train = (pred == y_tr).sum()/y_tr.shape[0]\n",
    "print(\"Accuracy Test: {}%\".format(accuracy_train*100))\n",
    "pred = rbf_optimal.predict(transf_x_val)\n",
    "accuracy_val = (pred == y_val).sum()/y_val.shape[0]\n",
    "print(\"Accuracy Val: {}%\".format(accuracy_val*100))"
   ]
  },
  {
   "cell_type": "markdown",
   "metadata": {},
   "source": [
    "### ========== Question 1.22 --- [5 marks] ==========\n",
    "Now we turn to the kernel coefficient `gamma` parameter. By using the same procedure as in the previous question, estimate the classification accuracy of an SVM classifier with RBF kernel while you vary the `gamma` parameter in a logarithmic range `logspace(-5, 0, 10)`. Fix the penalty parameter `C=1.0`.\n",
    "\n",
    "Plot the mean cross-validated classification accuracy against the parameter `gamma` by using a log-scale for the x-axis. Display the highest obtained mean accuracy score and the value of `gamma` which yielded it.  Label axes appropriately.\n",
    "\n",
    "Finally, train a classifier by using the optimal value for this parameter (without using cross-validation at this stage) and report the classification accuracy on the training and validation sets. "
   ]
  },
  {
   "cell_type": "code",
   "execution_count": 23,
   "metadata": {},
   "outputs": [
    {
     "data": {
      "image/png": "[encoded data removed]",
      "text/plain": [
       "<matplotlib.figure.Figure at 0x7f85768c7a50>"
      ]
     },
     "metadata": {},
     "output_type": "display_data"
    },
    {
     "name": "stdout",
     "output_type": "stream",
     "text": [
      "Accuracy Test: 0.891065456283%\n",
      "Accuracy Val: 0.726864330638%\n"
     ]
    }
   ],
   "source": [
    "range_gamma = np.logspace(-5, 0, 10)\n",
    "mean_accuracy_values = np.zeros(range_gamma.shape[0])\n",
    "for i in range(range_gamma.shape[0]):\n",
    "    rbf_classifier = svm.SVC(kernel='rbf', gamma=range_gamma[i], C=1)\n",
    "    current_fold_num = 0\n",
    "    for train, test in kf.split(transf_x_train):\n",
    "        rbf_classifier = rbf_classifier.fit(transf_x_tr[train], y_tr[train])\n",
    "        pred = rbf_classifier.predict(transf_x_tr[test])\n",
    "        accuracy = (pred == y_tr[test]).sum()/y_tr[test].shape[0]\n",
    "        mean_accuracy_values[i] += accuracy\n",
    "        current_fold_num += 1\n",
    "mean_accuracy_values = mean_accuracy_values/3\n",
    "plt.scatter(np.log(c_range), mean_accuracy_values)\n",
    "plt.show()\n",
    "optimal_gamma = range_gamma[np.argmax(mean_accuracy_values)]\n",
    "rbf_optimal = svm.SVC(kernel='rbf', gamma=optimal_gamma, C=1.0)\n",
    "rbf_optimal.fit(transf_x_tr, y_tr)\n",
    "pred = rbf_optimal.predict(transf_x_tr)\n",
    "accuracy_test = (pred == y_tr).sum()/y_tr.shape[0]\n",
    "print(\"Accuracy Test: {}%\".format(accuracy_test))\n",
    "pred = rbf_optimal.predict(transf_x_val)\n",
    "accuracy_val = (pred == y_val).sum()/y_val.shape[0]\n",
    "print(\"Accuracy Val: {}%\".format(accuracy_val))"
   ]
  },
  {
   "cell_type": "markdown",
   "metadata": {},
   "source": [
    "### ========== Question 1.23 --- [7 marks] ==========\n",
    "Now we wish to tune both the `C` and `gamma` parameters simultaneously. To save computational time, we will now constrain the parameter search space. Define a `4 X 4` grid for the two parameters, as follows:\n",
    "* `C`: `np.logspace(-2, 1, 4)`\n",
    "* `gamma`: `np.logspace(-4, -1, 4)`\n",
    "\n",
    "Estimate the mean cross-validated classification accuracy by using training data only and all possible configurations for the two parameters. \n",
    "\n",
    "Use a [heatmap](https://seaborn.github.io/generated/seaborn.heatmap.html?highlight=heatmap#seaborn.heatmap) to visualise the mean cross-validated classification accuracy for all `C`-`gamma` pairs. Label axes appropriately and display the values for `C` and `gamma` for the best performing configuration. \n",
    "\n",
    "Finally, by using the optimal configuration, train a classifier (without using cross-validation) and report the classification accuracy on the training and validation sets."
   ]
  },
  {
   "cell_type": "code",
   "execution_count": 24,
   "metadata": {},
   "outputs": [
    {
     "name": "stdout",
     "output_type": "stream",
     "text": [
      "Test Accuracy: 83.4687052078%\n",
      "Val Accuracy: 72.1473495058%\n"
     ]
    },
    {
     "data": {
      "image/png": "[encoded data removed]",
      "text/plain": [
       "<matplotlib.figure.Figure at 0x7f8579c11310>"
      ]
     },
     "metadata": {},
     "output_type": "display_data"
    }
   ],
   "source": [
    "search_space_c = np.logspace(-2, 1, 4)\n",
    "search_space_gamma = np.logspace(-4, -1, 4)\n",
    "mean_accuracy = np.zeros((search_space_c.shape[0], search_space_gamma.shape[0]))\n",
    "for i in range(search_space_c.shape[0]):\n",
    "    for j in range(search_space_gamma.shape[0]):\n",
    "        rbf_optimized = svm.SVC(kernel='rbf', C=search_space_c[i], gamma=search_space_gamma[j])\n",
    "        for train, test in kf.split(transf_x_tr):\n",
    "            rbf_optimized.fit(transf_x_tr[train], y_tr[train])\n",
    "            pred = rbf_optimized.predict(transf_x_tr[test])\n",
    "            accuracy = (pred == y_tr[test]).sum()/y_tr[test].shape[0]\n",
    "            mean_accuracy[i, j] += accuracy\n",
    "mean_accuracy = mean_accuracy/3\n",
    "sns.heatmap(mean_accuracy)\n",
    "# Calculate optimal\n",
    "max_value = np.unravel_index(np.argmax(mean_accuracy), mean_accuracy.shape)\n",
    "best_c = search_space_c[max_value[0]]\n",
    "best_gamma = search_space_gamma[max_value[1]]\n",
    "rbf_optimal = svm.SVC(kernel='rbf', C=best_c, gamma=best_gamma)\n",
    "rbf_optimal.fit(transf_x_tr, y_tr)\n",
    "pred_train = rbf_optimal.predict(transf_x_tr)\n",
    "accuracy_train = (pred_train == y_tr).sum()/y_tr.shape[0]\n",
    "pred_val = rbf_optimal.predict(transf_x_val)\n",
    "accuracy_val = (pred_val == y_val).sum()/y_val.shape[0]\n",
    "print(\"Test Accuracy: {}%\".format(accuracy_train*100))\n",
    "print(\"Val Accuracy: {}%\".format(accuracy_val*100))"
   ]
  },
  {
   "cell_type": "markdown",
   "metadata": {},
   "source": [
    "### ========== Question 1.24 --- [3 marks] ==========\n",
    "Is the classification accuracy on the validation set higher than in previous questions (1.22-1.23)? If not, can you explain why? Can you think of a way of further improving the performance of the classifier? You don't need to implement your suggestion at this stage. Would there be any associated problems with your suggested approach? "
   ]
  },
  {
   "cell_type": "markdown",
   "metadata": {},
   "source": [
    "No, the accuracy is actually slightly lower. One issue with this system is that the search resolution is quite low so it might be difficult to find the actual optimal value."
   ]
  },
  {
   "cell_type": "markdown",
   "metadata": {},
   "source": [
    "### ========== Question 1.25 --- [5 marks] ==========\n",
    "Now we want to evaluate the performance of an SVM classifier with polynomial kernel. Once again, we will tune the `degree` parameter by using cross-validation (similarly to what we did in Questions 1.21 and 1.22).\n",
    "\n",
    "By using the `K-fold` iterator from Question 1.11 and training data only, estimate the classification accuracy of polynomial SVM classifier, while you vary the `degree` parameter in the range `np.arange(1,8)`. \n",
    "\n",
    "Plot the mean cross-validated classification accuracy against the polynomial degree. Display the highest obtained mean accuracy score and the value of the `degree` parameter which yielded it. Label axes appropriately. \n",
    "\n",
    "Finally, train a classifier by using the optimal value for this parameter (without using cross-validation at this stage) and report the classification accuracy on the training and validation sets. "
   ]
  },
  {
   "cell_type": "code",
   "execution_count": 25,
   "metadata": {},
   "outputs": [
    {
     "data": {
      "image/png": "[encoded data removed]",
      "text/plain": [
       "<matplotlib.figure.Figure at 0x7f857602e410>"
      ]
     },
     "metadata": {},
     "output_type": "display_data"
    },
    {
     "name": "stdout",
     "output_type": "stream",
     "text": [
      "Training Accuracy: 78.3564261825%\n",
      "Validation Accuracy: 68.9128481581%\n"
     ]
    }
   ],
   "source": [
    "search_space_degree = np.arange(1,8)\n",
    "mean_accuracy = np.zeros(search_space_degree.shape[0])\n",
    "for i in range(search_space_degree.shape[0]):\n",
    "    poly_svm = svm.SVC(kernel='poly', degree=search_space_degree[i])\n",
    "    for train, test in kf.split(transf_x_tr):\n",
    "        poly_svm.fit(transf_x_tr[train], y_tr[train])\n",
    "        pred = poly_svm.predict(transf_x_tr[test])\n",
    "        accuracy = (pred == y_tr[test]).sum()/y_tr[test].shape[0]\n",
    "        mean_accuracy[i] += accuracy\n",
    "mean_accuracy = mean_accuracy/3\n",
    "plt.scatter(search_space_degree, mean_accuracy)\n",
    "plt.show()\n",
    "poly_svm = svm.SVC(kernel='poly', degree=search_space_degree[np.argmax(mean_accuracy)])\n",
    "poly_svm.fit(transf_x_tr, y_tr)\n",
    "pred_training = poly_svm.predict(transf_x_tr)\n",
    "accuracy_training = (pred_training == y_tr).sum()/y_tr.shape[0]\n",
    "pred = poly_svm.predict(transf_x_val)\n",
    "accuracy = (pred == y_val).sum()/y_val.shape[0]\n",
    "print('Training Accuracy: {}%'.format(accuracy_training*100))\n",
    "print('Validation Accuracy: {}%'.format(accuracy*100))"
   ]
  },
  {
   "cell_type": "markdown",
   "metadata": {},
   "source": [
    "### ========== Question 1.26 --- [4 marks] ==========\n",
    "\n",
    "You might have noticted that so far, we have used cross-validation for optimising the various tuning parameters (e.g. regularisation parameter in logistic regression, SVM kernel parameters) rather than hold-out validation, although we did have access to a validation set. Why do you think this is a good/bad idea? Give one advantage and one disadvantage of the two different approaches. Which one would you trust more in practice?"
   ]
  },
  {
   "cell_type": "markdown",
   "metadata": {},
   "source": [
    "Cross-validation is often much better as it provides access to the whole dataset for training rather than only a small subsection. The main disadvantage is that it is much less computationally efficient as the training algorithm needs to be run k times depending on the number of training folds."
   ]
  },
  {
   "cell_type": "markdown",
   "metadata": {},
   "source": [
    "### ========== Question 1.27 --- [6 marks] ==========\n",
    "\n",
    "Reload the full training and validation data that contain all indicator variables for all object categories. Remove the `imgId` attribute but keep all of the class indicator variables in the dataset this time. Your training features should include all attributes except `is_person` which should be your target variable. \n",
    "\n",
    "Once again, use a [StandardScaler](http://scikit-learn.org/0.17/modules/generated/sklearn.preprocessing.StandardScaler.html) to standardise your training and validation features. Then train a Random Forest Classifier by using the entropy `criterion`, 500 `n_estimators`, and also set the `random_state` to 31. Report the classification accuracy on the training and validation sets.\n",
    "\n",
    "Similarly to what we did in Question 1.18, order the features by decreasing importance and display the 50 most important features. \n",
    "\n",
    "Finally, answer the following questions:\n",
    "* What do you notice by looking at the list of the best 50 features?\n",
    "* How does the performance differ with respect to the case when the additional class indicator variables are not present (Question 1.16)? Relate your observations to the observed feature ranking.\n",
    "* Would it be easy to make use of the results in practice? Briey explain your reasoning.\n",
    "\n",
    "*(Hint: you might want to look at some of the [images](http://www.inf.ed.ac.uk/teaching/courses/iaml/2014/assts/asst3/images.html) to justify your explanations.)*"
   ]
  },
  {
   "cell_type": "code",
   "execution_count": 26,
   "metadata": {},
   "outputs": [
    {
     "name": "stdout",
     "output_type": "stream",
     "text": [
      "Training Accuracy: 100.0%\n",
      "Validation Accuracy: 71.1590296496%\n",
      "[('is_car', 0.0093786604641707457), ('is_bicycle', 0.0087309056175232311), ('dim20', 0.008030268242118669), ('dim50', 0.0059245937795918318), ('dim359', 0.005463270730147453), ('dim3', 0.0053254635730240014), ('dim75', 0.0052711094276990432), ('dim397', 0.0052542912934713882), ('dim282', 0.0049825214687269567), ('dim478', 0.0049417709169217588), ('dim262', 0.0047338405389478009), ('dim342', 0.0046091911270877816), ('dim422', 0.0044332941459177136), ('dim484', 0.0042446900093632139), ('dim253', 0.004188582305401224), ('dim460', 0.0041575039787235292), ('dim221', 0.0041343771358179392), ('dim355', 0.0039138875860249295), ('dim73', 0.0038603367481714335), ('dim287', 0.0038503656836912049), ('dim213', 0.0037915869326592007), ('dim347', 0.0037810959049539117), ('dim329', 0.003712548531421811), ('dim216', 0.0036834267865541752), ('dim482', 0.0036327747075583202), ('dim89', 0.0036258903666367714), ('dim273', 0.0035970303119618125), ('dim346', 0.0035330997133573776), ('dim16', 0.0034476083156718068), ('dim426', 0.0033773881272774462), ('dim34', 0.0033058220739703228), ('dim325', 0.0032983574618096353), ('dim72', 0.0032667142601207795), ('dim311', 0.0031933077985880041), ('dim47', 0.0031604102046429577), ('dim24', 0.0031551587118597022), ('dim314', 0.0031460858483183824), ('dim321', 0.0031284246543865123), ('dim328', 0.0031011368033754525), ('dim499', 0.0030852198752739659), ('dim133', 0.0030344063454050578), ('dim205', 0.0030165591431819709), ('dim500', 0.0029979035592304468), ('dim95', 0.0029678971654708108), ('dim352', 0.002964980039458727), ('dim441', 0.0029519998680364382), ('dim76', 0.0029428984879409231), ('dim439', 0.002927260769000772), ('dim170', 0.0029103625012924781), ('dim153', 0.0028770288987194012)]\n"
     ]
    }
   ],
   "source": [
    "# Should the other binary attributes be removed?\n",
    "# Import the data\n",
    "train_A2 = pd.read_csv('datasets/train_images_partA.csv')\n",
    "valid_A2 = pd.read_csv('datasets/valid_images_partA.csv')\n",
    "train_A2 = train_A2.drop('imgId', axis=1)\n",
    "valid_A2 = valid_A2.drop('imgId', axis=1)\n",
    "A2_train_x = train_A2.drop('is_person', axis=1)\n",
    "A2_train_y = train_A2['is_person']\n",
    "A2_val_x = valid_A2.drop('is_person', axis=1)\n",
    "A2_val_y = valid_A2['is_person']\n",
    "sc2 = StandardScaler()\n",
    "sc2 = sc2.fit(A2_train_x)\n",
    "A2_train_x_tr = sc2.transform(A2_train_x)\n",
    "A2_val_x_tr = sc2.transform(A2_val_x)\n",
    "rf = RandomForestClassifier(criterion='entropy', n_estimators=500, random_state=31)\n",
    "rf.fit(A2_train_x_tr, A2_train_y)\n",
    "accuracy_train = rf.score(A2_train_x_tr, A2_train_y)\n",
    "accuracy_val = rf.score(A2_val_x_tr, A2_val_y)\n",
    "print(\"Training Accuracy: {}%\".format(accuracy_train*100))\n",
    "print(\"Validation Accuracy: {}%\".format(accuracy_val*100))\n",
    "feature_importance = zip(attribute_names, rf.feature_importances_, )\n",
    "feature_importance = sorted(feature_importance, key=itemgetter(1))[::-1]\n",
    "top_50_features = feature_importance[:50]\n",
    "print(top_50_features)"
   ]
  },
  {
   "cell_type": "markdown",
   "metadata": {},
   "source": [
    "The two best features are 'is_car' and 'is_bicycle'. This is not surprising since they would frequently be seen simultaneously with people. The performance is moderately better than without the indicator variables. This makes sense since the two most important features were both not included in question 1.16. "
   ]
  },
  {
   "cell_type": "markdown",
   "metadata": {},
   "source": [
    "## Mini challenge [30%]"
   ]
  },
  {
   "cell_type": "markdown",
   "metadata": {},
   "source": [
    "*Important: You are allowed to write up to a maximum of 600 words in this part of the assignment. The thoroughness of the exploration and the quality of the resulting discussion is just as important as the final classification performance of your chosen method(s) and credit will be divided accordingly.*"
   ]
  },
  {
   "cell_type": "markdown",
   "metadata": {},
   "source": [
    "In this final part of the assignment we will have a mini object-recognition challenge. Using the data provided you are asked to find the best classiffier for the person/no person classification task. You can apply any preprocessing steps to the data that you think fit and employ any classifier you like (with the provison that you can explain what the classifier is/preprocessing steps are doing). You can also employ any lessons learnt during the course, either from previous Assignments, the Labs or the lecture material to try and squeeze out as much performance as you possibly can. The only restriction is that all steps must be performed in `Python` by using the `numpy`, `pandas` and `sklearn` packages. You can also make use of `matplotlib` and `seaborn` for visualisation. "
   ]
  },
  {
   "cell_type": "markdown",
   "metadata": {},
   "source": [
    "**Important:** The classification performance metric that we will use for this part is the *cross-entropy* or *logarithmic loss* (see the labs). You should familiarise yourself with the metric by reading the `sklearn` [user guide](http://scikit-learn.org/stable/modules/model_evaluation.html#log-loss) and [documentation](http://scikit-learn.org/stable/modules/generated/sklearn.metrics.log_loss.html#sklearn.metrics.log_loss). To estimate this metric you will need to evaluate probability outputs, as opposed to discrete predictions which we have used so far to compute classification accuracies. Most models in `sklearn` implement a `predict_proba()` method which returns the probabilities for each class. For instance, if your test set consists of `N` datapoints and there are `K` classes, the method will return a `N` x `K` matrix."
   ]
  },
  {
   "cell_type": "markdown",
   "metadata": {},
   "source": [
    "We provide you with three new data sets: a training set (`train_images_partB.csv`), a validation set (`valid_images_partB.csv`), and a test set (`test_images_partB.csv`). You must use the former two for training and evaluating your models (as you see fit). Once you have chosen your favourite model (and pre-processing steps) you should apply it to the test set (for which no labels are provided). Estimate the posterior proabilities for the data points in the test set and submit your results as part of your answer. Your results will be evaluated in terms of the logarithmic loss metric. You also need to submit a brief description of the approaches you considered, your suggested final approach, and a short explanation of why you chose it. The thoroughness of the exploration and the quality of the resulting discussion is just as important as the final score of your chosen method(s) and credit will be divided accordingly.\n",
    "\n",
    "*Hint: Feature engineering, feature combination, model combination and model parameter optimization can significantly improve performance.*"
   ]
  },
  {
   "cell_type": "markdown",
   "metadata": {},
   "source": [
    "**How to submit your results**: Store the estimated probabilities for the data points in the test set in a 2D numpy array. Then execute the provided cell at the end of this notebook which uses a provided `save_predictions` function to export your results into a `.txt` file (the function will return an error if the provided array has not the right shape). The `.txt` file will be saved where your notebook lives. Submit this file along with your notebook as detailed at the top of this file."
   ]
  },
  {
   "cell_type": "markdown",
   "metadata": {},
   "source": [
    "*Your answer goes here (max. 600 words)*\n",
    "\n"
   ]
  },
  {
   "cell_type": "code",
   "execution_count": 103,
   "metadata": {},
   "outputs": [
    {
     "name": "stdout",
     "output_type": "stream",
     "text": [
      "Accuracy Train Neural Network: 73.8286796025%\n",
      "Accuracy Neural Network: 76.6397124888%\n",
      "Log-loss Accuracy: 8.06840560261\n"
     ]
    }
   ],
   "source": [
    "# Import Datasets\n",
    "chal_train_data = pd.read_csv('datasets/train_images_partB.csv')\n",
    "chal_val_data = pd.read_csv('datasets/valid_images_partB.csv')\n",
    "chal_test_data = pd.read_csv('datasets/test_images_partB.csv')\n",
    "\n",
    "# Split to isolate x and y\n",
    "chal_train_x = chal_train_data.drop(['imgId', 'is_person'], axis=1)\n",
    "chal_train_y = chal_train_data['is_person']\n",
    "chal_val_x = chal_val_data.drop(['imgId', 'is_person'], axis=1)\n",
    "chal_val_y = chal_val_data['is_person']\n",
    "chal_test_x = chal_test_data.drop('is_person', axis=1)\n",
    "\n",
    "# First Pre-process data\n",
    "chal_sc = StandardScaler()\n",
    "chal_sc = chal_sc.fit(chal_train_x)\n",
    "chal_train_x = chal_sc.transform(chal_train_x)\n",
    "\n",
    "# Use Naive Bayes to determine good feature vectors\n",
    "\n",
    "# Test a neural network as a classifier\n",
    "# 77%\n",
    "# nn = MLPClassifier(hidden_layer_sizes=(700, 500, 200), max_iter=700, random_state=10)\n",
    "nn = MLPClassifier(hidden_layer_sizes=(500, 300, 200), max_iter=1000, random_state=10, activation='logistic')\n",
    "nn.fit(chal_train_x, chal_train_y)\n",
    "accuracy_train = nn.score(chal_train_x, chal_train_y)\n",
    "accuracy = nn.score(chal_val_x, chal_val_y)\n",
    "print('Accuracy Train Neural Network: {}%'.format(accuracy_train*100))\n",
    "print('Accuracy Neural Network: {}%'.format(accuracy*100))\n",
    "log_loss_accuracy = log_loss(chal_val_y, nn.predict(chal_val_x))\n",
    "print('Log-loss Accuracy: {}'.format(log_loss_accuracy))"
   ]
  },
  {
   "cell_type": "code",
   "execution_count": 28,
   "metadata": {},
   "outputs": [
    {
     "ename": "NameError",
     "evalue": "name 'test_images_partB_pred_proba' is not defined",
     "output_type": "error",
     "traceback": [
      "\u001b[0;31m---------------------------------------------------------------------------\u001b[0m",
      "\u001b[0;31mNameError\u001b[0m                                 Traceback (most recent call last)",
      "\u001b[0;32m<ipython-input-28-ecd997ed47cd>\u001b[0m in \u001b[0;36m<module>\u001b[0;34m()\u001b[0m\n\u001b[1;32m     10\u001b[0m \u001b[0;31m# with the name of the array which contains the probability\u001b[0m\u001b[0;34m\u001b[0m\u001b[0;34m\u001b[0m\u001b[0m\n\u001b[1;32m     11\u001b[0m \u001b[0;31m# estimates for the data in the test set.\u001b[0m\u001b[0;34m\u001b[0m\u001b[0;34m\u001b[0m\u001b[0m\n\u001b[0;32m---> 12\u001b[0;31m \u001b[0msave_predictions\u001b[0m\u001b[0;34m(\u001b[0m\u001b[0mtest_images_partB_pred_proba\u001b[0m\u001b[0;34m)\u001b[0m\u001b[0;34m\u001b[0m\u001b[0m\n\u001b[0m",
      "\u001b[0;31mNameError\u001b[0m: name 'test_images_partB_pred_proba' is not defined"
     ]
    }
   ],
   "source": [
    "# Execute this cell to export your results\n",
    "from numpy import savetxt\n",
    "def save_predictions(pred_proba):\n",
    "    if pred_proba.shape != (1114,2):\n",
    "        raise ValueError('Predicted probabilities array is not the right shape.')\n",
    "    \n",
    "    savetxt('assignment_3_predictions.txt', pred_proba)\n",
    "\n",
    "# You need to replace \"test_images_partB_pred_proba\"\n",
    "# with the name of the array which contains the probability \n",
    "# estimates for the data in the test set.\n",
    "save_predictions(test_images_partB_pred_proba) "
   ]
  },
  {
   "cell_type": "markdown",
   "metadata": {
    "collapsed": true
   },
   "source": [
    "# Appendix"
   ]
  },
  {
   "cell_type": "markdown",
   "metadata": {},
   "source": [
    "## More information about visual words"
   ]
  },
  {
   "cell_type": "markdown",
   "metadata": {},
   "source": [
    "Visual words are based on [Scale-invariant feature transforms (SIFT)](https://en.wikipedia.org/wiki/Scale-invariant_feature_transform). SIFT features are essentially local orientation histograms and capture the properties of small image regions. They possess attractive invariance properties which make them well suited for our task (you can read more about SIFT features in [D.Lowe, IJCV 60(2):91- 110, 2004](http://link.springer.com/article/10.1023/B:VISI.0000029664.99615.94), but the details don't matter for the purpose of this assignment). Each SIFT feature is a 128 dimensional vector. From each image many SIFT features are extracted, typically > 2500 per image (features are extracted at regular intervals using a 15 pixel grid and at 4 different scales). To obtain visual words a representative subset of all extracted SIFT features from all images is chosen and clustered with k-means using 500 centres (such use of the k-means algorithm will be discussed in detail during the lecture). These 500 cluster centres form our visual words. The representation of a single image is obtained by first assigning each SIFT feature extracted from the image to the appropriate cluster (i.e. we determine the visual word corresponding to each feature by picking the closest cluster centre). We then count the number of features from that image assigned to each cluster (i.e. we determine how often each visual word is present in the image). This results in a 500 dimensional count vector for each image (one dimension for each visual word). The normalized version of this count vector gives the final representation of the image (normalized means that we divide the count vector by the total number of visual words in the image, i.e. the normalized counts sum to 1 for each image)"
   ]
  }
 ],
 "metadata": {
  "anaconda-cloud": {},
  "kernelspec": {
   "display_name": "Python 2",
   "language": "python",
   "name": "python2"
  },
  "language_info": {
   "codemirror_mode": {
    "name": "ipython",
    "version": 2
   },
   "file_extension": ".py",
   "mimetype": "text/x-python",
   "name": "python",
   "nbconvert_exporter": "python",
   "pygments_lexer": "ipython2",
   "version": "2.7.14"
  }
 },
 "nbformat": 4,
 "nbformat_minor": 1
}
